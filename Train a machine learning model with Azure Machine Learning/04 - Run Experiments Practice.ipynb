{
  "cells": [
    {
      "cell_type": "code",
      "source": [
        "# Connecting to the Workspace\r\n",
        "from azureml.core import Workspace\r\n",
        "\r\n",
        "ws = Workspace.from_config()\r\n",
        "print(ws)"
      ],
      "outputs": [
        {
          "output_type": "stream",
          "name": "stdout",
          "text": "Workspace.create(name='aml-workspace', subscription_id='3571f8dc-3527-4993-9d2b-ac0812d807fd', resource_group='aml-resources')\n"
        }
      ],
      "execution_count": 1,
      "metadata": {
        "gather": {
          "logged": 1659599310378
        }
      }
    },
    {
      "cell_type": "code",
      "source": [
        "from azureml.core import Experiment\r\n",
        "\r\n",
        "import pandas as pd\r\n",
        "import matplotlib.pyplot as plt\r\n",
        "import seaborn as sns\r\n",
        "\r\n",
        "# Creating an Experiment\r\n",
        "experiment = Experiment(workspace = ws, name = 'First-Experiment')\r\n",
        "\r\n",
        "# Start experiment from here\r\n",
        "run = experiment.start_logging()\r\n",
        "\r\n",
        "# Script File\r\n",
        "dataset = pd.read_csv('mslearn-dp100/data/diabetes.csv')\r\n",
        "\r\n",
        "# Performing different types of logs \r\n",
        "    # run.log()\r\n",
        "number_of_rows = dataset.shape[0]\r\n",
        "run.log(name = 'Rows', value = number_of_rows, description = \"Total number of records in our dataset\")\r\n",
        "\r\n",
        "number_of_columns = dataset.shape[1]\r\n",
        "run.log(name = 'Features', value = number_of_columns, description = \"Total number of Features in our dataset\")\r\n",
        "\r\n",
        "    # run.log_image()\r\n",
        "target_values = dataset['Diabetic'].value_counts()\r\n",
        "\r\n",
        "# Configuring fig and ax for figure -> Matplot\r\n",
        "fig_target = plt.figure(figsize = (4, 4))\r\n",
        "ax = fig_target.gca() # AxesSubplot(0.125,0.125;0.775x0.755)\r\n",
        "\r\n",
        "target_values.plot.bar(ax = ax)\r\n",
        "ax.set_title('Patients with Diabetes')\r\n",
        "ax.set_xlabel('Diagonsis')\r\n",
        "ax.set_ylabel('Number of Patients')\r\n",
        "\r\n",
        "# plt.show()\r\n",
        "run.log_image(name = 'Target Categories', plot = fig_target, description = \"Shows the number of people having diabetes and not.\")\r\n",
        "\r\n",
        "# Configuring fig and ax for figure -> Seaborn\r\n",
        "fig = plt.figure(figsize = (10, 8))\r\n",
        "sns.histplot(data = dataset['Age'], bins = 30, kde=True)\r\n",
        "# plt.show()\r\n",
        "run.log_image(name = 'Age Distribution', plot = fig, description = 'Age distribution is right skewed')\r\n",
        "\r\n",
        "\r\n",
        "    # log_list\r\n",
        "unique_bmi_values = list(dataset.BMI.unique())[: 25]\r\n",
        "run.log_list('List of BMI values', unique_bmi_values)\r\n",
        "\r\n",
        "    # log_row\r\n",
        "stats = dataset.describe().to_dict()\r\n",
        "\r\n",
        "for column in stats:\r\n",
        "    keys = list(stats[column].keys())\r\n",
        "    values = list(stats[column].values())\r\n",
        "\r\n",
        "    for index in range(len(keys)):\r\n",
        "        run.log_row(column, stat = keys[index], value = values[index])\r\n",
        "\r\n",
        "# End the Experiment\r\n",
        "run.complete()\r\n"
      ],
      "outputs": [
        {
          "output_type": "display_data",
          "data": {
            "text/plain": "<Figure size 288x288 with 1 Axes>",
            "image/png": "[encoded data removed]"
          },
          "metadata": {
            "needs_background": "light"
          }
        },
        {
          "output_type": "display_data",
          "data": {
            "text/plain": "<Figure size 720x576 with 1 Axes>",
            "image/png": "[encoded data removed]"
          },
          "metadata": {
            "needs_background": "light"
          }
        }
      ],
      "execution_count": 2,
      "metadata": {
        "jupyter": {
          "source_hidden": false,
          "outputs_hidden": false
        },
        "nteract": {
          "transient": {
            "deleting": false
          }
        },
        "gather": {
          "logged": 1659599324293
        }
      }
    },
    {
      "cell_type": "code",
      "source": [
        "from azureml.widgets import RunDetails\r\n",
        "\r\n",
        "RunDetails(run).show()"
      ],
      "outputs": [
        {
          "output_type": "display_data",
          "data": {
            "text/plain": "_UserRunWidget(widget_settings={'childWidgetDisplay': 'popup', 'send_telemetry': False, 'log_level': 'INFO', '…",
            "application/vnd.jupyter.widget-view+json": {
              "version_major": 2,
              "version_minor": 0,
              "model_id": "45fc6de3675a400db98502b107186248"
            }
          },
          "metadata": {}
        },
        {
          "output_type": "display_data",
          "data": {
            "application/aml.mini.widget.v1": "{\"status\": \"Completed\", \"workbench_run_details_uri\": \"https://ml.azure.com/runs/61cf3a0c-3326-4a93-a651-09827ba94f32?wsid=/subscriptions/3571f8dc-3527-4993-9d2b-ac0812d807fd/resourcegroups/aml-resources/workspaces/aml-workspace&tid=78c76086-2fb7-4f6a-b684-c129ba0ea713\", \"run_id\": \"61cf3a0c-3326-4a93-a651-09827ba94f32\", \"run_properties\": {\"run_id\": \"61cf3a0c-3326-4a93-a651-09827ba94f32\", \"created_utc\": \"2022-08-04T07:48:31.029682Z\", \"properties\": {\"ContentSnapshotId\": \"e9ac80e3-2607-4680-a21c-6532f84269ce\"}, \"tags\": {}, \"end_time_utc\": \"2022-08-04T07:48:42.225996Z\", \"status\": \"Completed\", \"log_files\": {}, \"log_groups\": [], \"run_duration\": \"0:00:11\", \"run_number\": \"1659599311\", \"run_queued_details\": {\"status\": \"Completed\", \"details\": null}}, \"child_runs\": [], \"children_metrics\": {}, \"run_metrics\": [{\"name\": \"Rows\", \"run_id\": \"61cf3a0c-3326-4a93-a651-09827ba94f32\", \"categories\": [0], \"series\": [{\"data\": [10000]}]}, {\"name\": \"Features\", \"run_id\": \"61cf3a0c-3326-4a93-a651-09827ba94f32\", \"categories\": [0], \"series\": [{\"data\": [10]}]}, {\"name\": \"Target Categories\", \"run_id\": \"61cf3a0c-3326-4a93-a651-09827ba94f32\", \"categories\": [0], \"series\": [{\"data\": [\"aml://artifactId/ExperimentRun/dcid.61cf3a0c-3326-4a93-a651-09827ba94f32/Target Categories_1659599315.png\"]}]}, {\"name\": \"Age Distribution\", \"run_id\": \"61cf3a0c-3326-4a93-a651-09827ba94f32\", \"categories\": [0], \"series\": [{\"data\": [\"aml://artifactId/ExperimentRun/dcid.61cf3a0c-3326-4a93-a651-09827ba94f32/Age Distribution_1659599316.png\"]}]}, {\"name\": \"SerumInsulin\", \"run_id\": \"61cf3a0c-3326-4a93-a651-09827ba94f32\", \"categories\": [0], \"series\": [{\"data\": [{\"stat\": [\"min\", \"25%\", \"50%\", \"count\", \"mean\", \"75%\", \"max\", \"std\"], \"value\": [14.0, 39.0, 85.0, 10000.0, 139.2436, 197.0, 796.0, 133.77791937465278]}]}]}, {\"name\": \"BMI\", \"run_id\": \"61cf3a0c-3326-4a93-a651-09827ba94f32\", \"categories\": [0], \"series\": [{\"data\": [{\"stat\": [\"count\", \"mean\", \"std\", \"min\", \"25%\", \"50%\", \"75%\", \"max\"], \"value\": [10000.0, 31.56702174359113, 9.804365693559113, 18.20080735, 21.247426835, 31.922420785, 39.3289214475, 56.03462763]}]}]}, {\"name\": \"List of BMI values\", \"run_id\": \"61cf3a0c-3326-4a93-a651-09827ba94f32\", \"categories\": [0, 1, 2, 3, 4, 5, 6, 7, 8, 9, 10, 11, 12, 13, 14, 15, 16, 17, 18, 19, 20, 21, 22, 23, 24], \"series\": [{\"data\": [43.50972593, 21.24057571, 41.51152348, 29.58219193, 42.60453585, 19.72416021, 21.94135672, 18.277722600000004, 26.62492885, 36.88957571, 43.22504089, 21.29447943, 36.49531966, 36.08929341, 39.19207553, 19.84731197, 29.0445728, 29.78619164, 21.23099598, 42.18572029, 21.86626037, 42.50088658, 36.62824913, 34.98577243, 34.53408234]}]}, {\"name\": \"PatientID\", \"run_id\": \"61cf3a0c-3326-4a93-a651-09827ba94f32\", \"categories\": [0], \"series\": [{\"data\": [{\"stat\": [\"count\", \"mean\", \"std\", \"min\", \"25%\", \"50%\", \"75%\", \"max\"], \"value\": [10000.0, 1502122.0827, 289286.764809992, 1000038.0, 1251672.25, 1504394.0, 1754607.5, 1999997.0]}]}]}, {\"name\": \"DiabetesPedigree\", \"run_id\": \"61cf3a0c-3326-4a93-a651-09827ba94f32\", \"categories\": [0], \"series\": [{\"data\": [{\"stat\": [\"count\", \"mean\", \"std\", \"min\", \"25%\", \"50%\", \"75%\", \"max\"], \"value\": [10000.0, 0.40094372473119916, 0.38146315998608793, 0.078043795, 0.13706541025000002, 0.199698294, 0.62115837325, 2.3015941890000002]}]}]}, {\"name\": \"Age\", \"run_id\": \"61cf3a0c-3326-4a93-a651-09827ba94f32\", \"categories\": [0], \"series\": [{\"data\": [{\"stat\": [\"count\", \"mean\", \"std\", \"min\", \"25%\", \"50%\", \"75%\", \"max\"], \"value\": [10000.0, 30.1341, 12.106046952960462, 21.0, 22.0, 24.0, 35.0, 77.0]}]}]}, {\"name\": \"Pregnancies\", \"run_id\": \"61cf3a0c-3326-4a93-a651-09827ba94f32\", \"categories\": [0], \"series\": [{\"data\": [{\"stat\": [\"count\", \"mean\", \"std\", \"min\", \"25%\", \"50%\", \"75%\", \"max\"], \"value\": [10000.0, 3.2558, 3.4057196379950074, 0.0, 0.0, 2.0, 6.0, 14.0]}]}]}, {\"name\": \"Diabetic\", \"run_id\": \"61cf3a0c-3326-4a93-a651-09827ba94f32\", \"categories\": [0], \"series\": [{\"data\": [{\"stat\": [\"count\", \"mean\", \"std\", \"min\", \"25%\", \"50%\", \"75%\", \"max\"], \"value\": [10000.0, 0.3344, 0.4718038786296849, 0.0, 0.0, 0.0, 1.0, 1.0]}]}]}, {\"name\": \"PlasmaGlucose\", \"run_id\": \"61cf3a0c-3326-4a93-a651-09827ba94f32\", \"categories\": [0], \"series\": [{\"data\": [{\"stat\": [\"count\", \"mean\", \"std\", \"min\", \"25%\", \"50%\", \"75%\", \"max\"], \"value\": [10000.0, 107.8502, 31.920909360565563, 44.0, 84.0, 105.0, 129.0, 192.0]}]}]}, {\"name\": \"DiastolicBloodPressure\", \"run_id\": \"61cf3a0c-3326-4a93-a651-09827ba94f32\", \"categories\": [0], \"series\": [{\"data\": [{\"stat\": [\"count\", \"mean\", \"std\", \"min\", \"25%\", \"50%\", \"75%\", \"max\"], \"value\": [10000.0, 71.2075, 16.801478289640706, 24.0, 58.0, 72.0, 85.0, 117.0]}]}]}, {\"name\": \"TricepsThickness\", \"run_id\": \"61cf3a0c-3326-4a93-a651-09827ba94f32\", \"categories\": [0], \"series\": [{\"data\": [{\"stat\": [\"count\", \"mean\", \"std\", \"min\", \"25%\", \"50%\", \"75%\", \"max\"], \"value\": [10000.0, 28.8176, 14.506480415228332, 7.0, 15.0, 31.0, 41.0, 92.0]}]}]}], \"run_logs\": \"\\nRun is completed.\", \"graph\": {}, \"widget_settings\": {\"childWidgetDisplay\": \"popup\", \"send_telemetry\": false, \"log_level\": \"INFO\", \"sdk_version\": \"1.42.0\"}, \"loading\": false}"
          },
          "metadata": {}
        }
      ],
      "execution_count": 3,
      "metadata": {
        "jupyter": {
          "source_hidden": false,
          "outputs_hidden": false
        },
        "nteract": {
          "transient": {
            "deleting": false
          }
        },
        "gather": {
          "logged": 1659599332098
        }
      }
    },
    {
      "cell_type": "code",
      "source": [
        "import json\r\n",
        "\r\n",
        "# Get Logged Metrics\r\n",
        "metrics = run.get_metrics()\r\n",
        "\r\n",
        "print(json.dumps(metrics, indent = 2))"
      ],
      "outputs": [
        {
          "output_type": "stream",
          "name": "stdout",
          "text": "{\n  \"Rows\": 10000,\n  \"Features\": 10,\n  \"Target Categories\": \"aml://artifactId/ExperimentRun/dcid.61cf3a0c-3326-4a93-a651-09827ba94f32/Target Categories_1659599315.png\",\n  \"Age Distribution\": \"aml://artifactId/ExperimentRun/dcid.61cf3a0c-3326-4a93-a651-09827ba94f32/Age Distribution_1659599316.png\",\n  \"SerumInsulin\": {\n    \"stat\": [\n      \"count\",\n      \"mean\",\n      \"std\",\n      \"min\",\n      \"25%\",\n      \"50%\",\n      \"75%\",\n      \"max\"\n    ],\n    \"value\": [\n      10000.0,\n      139.2436,\n      133.77791937465278,\n      14.0,\n      39.0,\n      85.0,\n      197.0,\n      796.0\n    ]\n  },\n  \"BMI\": {\n    \"stat\": [\n      \"count\",\n      \"mean\",\n      \"std\",\n      \"min\",\n      \"25%\",\n      \"50%\",\n      \"75%\",\n      \"max\"\n    ],\n    \"value\": [\n      10000.0,\n      31.56702174359113,\n      9.804365693559113,\n      18.20080735,\n      21.247426835,\n      31.922420785,\n      39.3289214475,\n      56.03462763\n    ]\n  },\n  \"List of BMI values\": [\n    43.50972593,\n    21.24057571,\n    41.51152348,\n    29.58219193,\n    42.60453585,\n    19.72416021,\n    21.94135672,\n    18.277722600000004,\n    26.62492885,\n    36.88957571,\n    43.22504089,\n    21.29447943,\n    36.49531966,\n    36.08929341,\n    39.19207553,\n    19.84731197,\n    29.0445728,\n    29.78619164,\n    21.23099598,\n    42.18572029,\n    21.86626037,\n    42.50088658,\n    36.62824913,\n    34.98577243,\n    34.53408234\n  ],\n  \"PatientID\": {\n    \"stat\": [\n      \"count\",\n      \"mean\",\n      \"std\",\n      \"min\",\n      \"25%\",\n      \"50%\",\n      \"75%\",\n      \"max\"\n    ],\n    \"value\": [\n      10000.0,\n      1502122.0827,\n      289286.764809992,\n      1000038.0,\n      1251672.25,\n      1504394.0,\n      1754607.5,\n      1999997.0\n    ]\n  },\n  \"DiabetesPedigree\": {\n    \"stat\": [\n      \"count\",\n      \"mean\",\n      \"std\",\n      \"min\",\n      \"25%\",\n      \"50%\",\n      \"75%\",\n      \"max\"\n    ],\n    \"value\": [\n      10000.0,\n      0.40094372473119916,\n      0.38146315998608793,\n      0.078043795,\n      0.13706541025000002,\n      0.199698294,\n      0.62115837325,\n      2.3015941890000002\n    ]\n  },\n  \"Age\": {\n    \"stat\": [\n      \"count\",\n      \"mean\",\n      \"std\",\n      \"min\",\n      \"25%\",\n      \"50%\",\n      \"75%\",\n      \"max\"\n    ],\n    \"value\": [\n      10000.0,\n      30.1341,\n      12.106046952960462,\n      21.0,\n      22.0,\n      24.0,\n      35.0,\n      77.0\n    ]\n  },\n  \"Pregnancies\": {\n    \"stat\": [\n      \"count\",\n      \"mean\",\n      \"std\",\n      \"min\",\n      \"25%\",\n      \"50%\",\n      \"75%\",\n      \"max\"\n    ],\n    \"value\": [\n      10000.0,\n      3.2558,\n      3.4057196379950074,\n      0.0,\n      0.0,\n      2.0,\n      6.0,\n      14.0\n    ]\n  },\n  \"Diabetic\": {\n    \"stat\": [\n      \"count\",\n      \"mean\",\n      \"std\",\n      \"min\",\n      \"25%\",\n      \"50%\",\n      \"75%\",\n      \"max\"\n    ],\n    \"value\": [\n      10000.0,\n      0.3344,\n      0.4718038786296849,\n      0.0,\n      0.0,\n      0.0,\n      1.0,\n      1.0\n    ]\n  },\n  \"PlasmaGlucose\": {\n    \"stat\": [\n      \"count\",\n      \"mean\",\n      \"std\",\n      \"min\",\n      \"25%\",\n      \"50%\",\n      \"75%\",\n      \"max\"\n    ],\n    \"value\": [\n      10000.0,\n      107.8502,\n      31.920909360565563,\n      44.0,\n      84.0,\n      105.0,\n      129.0,\n      192.0\n    ]\n  },\n  \"DiastolicBloodPressure\": {\n    \"stat\": [\n      \"count\",\n      \"mean\",\n      \"std\",\n      \"min\",\n      \"25%\",\n      \"50%\",\n      \"75%\",\n      \"max\"\n    ],\n    \"value\": [\n      10000.0,\n      71.2075,\n      16.801478289640706,\n      24.0,\n      58.0,\n      72.0,\n      85.0,\n      117.0\n    ]\n  },\n  \"TricepsThickness\": {\n    \"stat\": [\n      \"count\",\n      \"mean\",\n      \"std\",\n      \"min\",\n      \"25%\",\n      \"50%\",\n      \"75%\",\n      \"max\"\n    ],\n    \"value\": [\n      10000.0,\n      28.8176,\n      14.506480415228332,\n      7.0,\n      15.0,\n      31.0,\n      41.0,\n      92.0\n    ]\n  }\n}\n"
        }
      ],
      "execution_count": 4,
      "metadata": {
        "jupyter": {
          "source_hidden": false,
          "outputs_hidden": false
        },
        "nteract": {
          "transient": {
            "deleting": false
          }
        },
        "gather": {
          "logged": 1659599334301
        }
      }
    },
    {
      "cell_type": "code",
      "source": [],
      "outputs": [],
      "execution_count": null,
      "metadata": {
        "jupyter": {
          "source_hidden": false,
          "outputs_hidden": false
        },
        "nteract": {
          "transient": {
            "deleting": false
          }
        },
        "gather": {
          "logged": 1659597028151
        }
      }
    },
    {
      "cell_type": "code",
      "source": [],
      "outputs": [],
      "execution_count": null,
      "metadata": {
        "jupyter": {
          "source_hidden": false,
          "outputs_hidden": false
        },
        "nteract": {
          "transient": {
            "deleting": false
          }
        }
      }
    }
  ],
  "metadata": {
    "kernelspec": {
      "name": "python38-azureml",
      "language": "python",
      "display_name": "Python 3.8 - AzureML"
    },
    "language_info": {
      "name": "python",
      "version": "3.8.5",
      "mimetype": "text/x-python",
      "codemirror_mode": {
        "name": "ipython",
        "version": 3
      },
      "pygments_lexer": "ipython3",
      "nbconvert_exporter": "python",
      "file_extension": ".py"
    },
    "kernel_info": {
      "name": "python38-azureml"
    },
    "microsoft": {
      "host": {
        "AzureML": {
          "notebookHasBeenCompleted": true
        }
      }
    },
    "nteract": {
      "version": "nteract-front-end@1.0.0"
    }
  },
  "nbformat": 4,
  "nbformat_minor": 2
}